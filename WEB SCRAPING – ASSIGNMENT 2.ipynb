{
 "cells": [
  {
   "cell_type": "code",
   "execution_count": 3,
   "id": "8048f476",
   "metadata": {},
   "outputs": [
    {
     "name": "stdout",
     "output_type": "stream",
     "text": [
      "Empty DataFrame\n",
      "Columns: [Job Title, Job Location, Company Name, Experience Required]\n",
      "Index: []\n"
     ]
    }
   ],
   "source": [
    "import requests\n",
    "from bs4 import BeautifulSoup\n",
    "import pandas as pd\n",
    "\n",
    "\n",
    "def scrape_jobs():\n",
    "    url = \"https://www.shine.com/job-search/data-analyst-jobs-in-bangalore\"\n",
    "    response = requests.get(url)\n",
    "\n",
    "   \n",
    "    soup = BeautifulSoup(response.content, \"html.parser\")\n",
    "    job_listings = soup.find_all(\"li\", class_=\"search_listing\")\n",
    "    job_titles = []\n",
    "    job_locations = []\n",
    "    company_names = []\n",
    "    experience_required = []\n",
    "\n",
    "   \n",
    "    for job in job_listings[:10]:\n",
    "     \n",
    "        job_title = job.find(\"h2\", class_=\"font-size-24\").text.strip()\n",
    "        job_titles.append(job_title)\n",
    "\n",
    "        job_location = job.find(\"span\", class_=\"JobDetailWidget_jobCard_lists_item__w6Yow undefined JobDetailWidget_salaryIcon__lz4lf\").text.strip()\n",
    "        job_locations.append(job_location)\n",
    "\n",
    "        company_name = job.find(\"span\", class_=\"JobDetailWidget_jobCard_lists_item__w6Yow undefined JobDetailWidget_salaryIcon__lz4lf\").text.strip()\n",
    "        company_names.append(company_name)\n",
    "\n",
    "        experience = job.find(\"span\", class_=\"JobDetailWidget_jobCard_lists_item__w6Yow undefined JobDetailWidget_salaryIcon__lz4lf\").text.strip()\n",
    "        experience_required.append(experience)\n",
    "\n",
    "    job_data = pd.DataFrame({\n",
    "        \"Job Title\": job_titles,\n",
    "        \"Job Location\": job_locations,\n",
    "        \"Company Name\": company_names,\n",
    "        \"Experience Required\": experience_required\n",
    "    })\n",
    "\n",
    "    return job_data\n",
    "\n",
    "def main():\n",
    "   \n",
    "    job_data = scrape_jobs()\n",
    "    print(job_data)\n",
    "\n",
    "if __name__ == \"__main__\":\n",
    "    main()\n"
   ]
  },
  {
   "cell_type": "code",
   "execution_count": 5,
   "id": "5bf9691d",
   "metadata": {},
   "outputs": [
    {
     "name": "stdout",
     "output_type": "stream",
     "text": [
      "Empty DataFrame\n",
      "Columns: []\n",
      "Index: []\n"
     ]
    }
   ],
   "source": [
    "import requests\n",
    "from bs4 import BeautifulSoup\n",
    "import pandas as pd\n",
    "\n",
    "\n",
    "url = \"https://www.naukri.com/\"\n",
    "response = requests.get(url)\n",
    "\n",
    "job_title = \"Data Scientist\"\n",
    "location = \"Bangalore\"\n",
    "payload = {'keyword': job_title, 'location': location}\n",
    "search_url = \"https://www.naukri.com/data-scientist-jobs-in-bangalore\"\n",
    "response = requests.get(search_url, params=payload)\n",
    "\n",
    "soup = BeautifulSoup(response.content, \"html.parser\")\n",
    "job_results = soup.find_all(\"div\", class_=\"jobTuple\")\n",
    "\n",
    "data = []\n",
    "for job in job_results[:10]:\n",
    "    title = job.find(\"a\", class_=\"title \").text.strip()\n",
    "    company = job.find(\"a\", class_=\"comp-name mw-25\").text.strip()\n",
    "    location = job.find(\"span\", class_=\"locWdth\").text.strip()\n",
    "    experience = job.find(\"span\", class_=\"expwdth\").text.strip()\n",
    "\n",
    "    data.append({\n",
    "        \"Job Title\": title,\n",
    "        \"Company Name\": company,\n",
    "        \"Job Location\": location,\n",
    "        \"Experience Required\": experience\n",
    "    })\n",
    "\n",
    "df = pd.DataFrame(data)\n",
    "\n",
    "print(df)\n"
   ]
  },
  {
   "cell_type": "code",
   "execution_count": 9,
   "id": "88b59a3f",
   "metadata": {},
   "outputs": [
    {
     "name": "stdout",
     "output_type": "stream",
     "text": [
      "Empty DataFrame\n",
      "Columns: [Brand, Product Description, Price]\n",
      "Index: []\n"
     ]
    }
   ],
   "source": [
    "import requests\n",
    "from bs4 import BeautifulSoup\n",
    "import pandas as pd\n",
    "\n",
    "def scrape_flipkart_sunglasses(url):\n",
    "    response = requests.get(url)\n",
    "    soup = BeautifulSoup(response.content, 'html.parser')\n",
    " \n",
    "    brands = []\n",
    "    descriptions = []\n",
    "    prices = []\n",
    "    listings = soup.find_all('div', class_='_2B099V')\n",
    "   \n",
    "    for listing in listings:\n",
    "        brand = listing.find('div', class_='_2WkVRV').text.strip()\n",
    "        description = listing.find('a', class_='_3zQntF').text.strip()\n",
    "        price = listing.find('div', class_='_2ZdXDB').text.strip()\n",
    "        brands.append(brand)\n",
    "        descriptions.append(description)\n",
    "        prices.append(price)\n",
    "    \n",
    "    return brands, descriptions, prices\n",
    "\n",
    "def scrape_multiple_pages(base_url, num_pages):\n",
    "    all_brands = []\n",
    "    all_descriptions = []\n",
    "    all_prices = []\n",
    "    \n",
    "    for page in range(1, num_pages + 1):\n",
    "        url = f\"{base_url}&page={page}\"\n",
    "        brands, descriptions, prices = scrape_flipkart_sunglasses(url)\n",
    "        all_brands.extend(brands)\n",
    "        all_descriptions.extend(descriptions)\n",
    "        all_prices.extend(prices)\n",
    "    \n",
    "    return all_brands, all_descriptions, all_prices\n",
    "\n",
    "def main():\n",
    "    base_url = \"https://www.flipkart.com/search?q=sunglasses\"\n",
    "    num_sunglasses = 100\n",
    "    num_pages = (num_sunglasses + 19) // 20  \n",
    "    \n",
    "    brands, descriptions, prices = scrape_multiple_pages(base_url, num_pages)\n",
    "    \n",
    "    df = pd.DataFrame({\n",
    "        'Brand': brands[:num_sunglasses],\n",
    "        'Product Description': descriptions[:num_sunglasses],\n",
    "        'Price': prices[:num_sunglasses]\n",
    "    })\n",
    "   \n",
    "    print(df)\n",
    "\n",
    "if __name__ == \"__main__\":\n",
    "    main()\n"
   ]
  },
  {
   "cell_type": "code",
   "execution_count": null,
   "id": "b5905221",
   "metadata": {},
   "outputs": [],
   "source": []
  }
 ],
 "metadata": {
  "kernelspec": {
   "display_name": "Python 3 (ipykernel)",
   "language": "python",
   "name": "python3"
  },
  "language_info": {
   "codemirror_mode": {
    "name": "ipython",
    "version": 3
   },
   "file_extension": ".py",
   "mimetype": "text/x-python",
   "name": "python",
   "nbconvert_exporter": "python",
   "pygments_lexer": "ipython3",
   "version": "3.11.5"
  }
 },
 "nbformat": 4,
 "nbformat_minor": 5
}
