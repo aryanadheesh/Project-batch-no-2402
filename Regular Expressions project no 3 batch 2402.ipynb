{
 "cells": [
  {
   "cell_type": "code",
   "execution_count": null,
   "id": "573962fc",
   "metadata": {},
   "outputs": [],
   "source": [
    "def replace_chars(sentence)"
   ]
  },
  {
   "cell_type": "raw",
   "id": "66511b50",
   "metadata": {},
   "source": [
    "replaced_sentence = sentence.replace(' ', ':').replace(',', ':').replace('.', ':')"
   ]
  },
  {
   "cell_type": "code",
   "execution_count": null,
   "id": "a7136add",
   "metadata": {},
   "outputs": [],
   "source": [
    "input_sentence = 'Python Exercises, PHP exercises.'"
   ]
  },
  {
   "cell_type": "code",
   "execution_count": null,
   "id": "f370ca41",
   "metadata": {},
   "outputs": [],
   "source": [
    "output_sentence = replace_chars(input_sentence)"
   ]
  },
  {
   "cell_type": "code",
   "execution_count": 7,
   "id": "d81967bd",
   "metadata": {},
   "outputs": [
    {
     "name": "stdout",
     "output_type": "stream",
     "text": [
      "Sample Text: Python Exercises, PHP exercises.\n",
      "Expected Output: Python:Exercises::PHP:exercises:\n"
     ]
    }
   ],
   "source": [
    "print(\"Sample Text:\", input_sentence)\n",
    "print(\"Expected Output:\", output_sentence)"
   ]
  },
  {
   "cell_type": "code",
   "execution_count": null,
   "id": "ee28ee18",
   "metadata": {},
   "outputs": [],
   "source": [
    "import pandas as pd\n",
    "import re\n",
    "data = {'SUMMARY' : ['hello, world!', 'XXXXX test', '123four, five:; six...']}\n",
    "df = pd.DataFrame(data)\n",
    "df['SUMMARY'] = df['SUMMARY'].apply(lambda x: re.sub(r'[^\\w\\s]', '', x))"
   ]
  },
  {
   "cell_type": "code",
   "execution_count": 10,
   "id": "f01da5b8",
   "metadata": {},
   "outputs": [
    {
     "name": "stdout",
     "output_type": "stream",
     "text": [
      "            SUMMARY\n",
      "0       hello world\n",
      "1        XXXXX test\n",
      "2  123four five six\n"
     ]
    }
   ],
   "source": [
    "print(df)"
   ]
  },
  {
   "cell_type": "code",
   "execution_count": 71,
   "id": "ceec2c02",
   "metadata": {},
   "outputs": [
    {
     "name": "stdout",
     "output_type": "stream",
     "text": [
      "['This', 'sample', 'string', 'with', 'some', 'long', 'words', 'python']\n"
     ]
    }
   ],
   "source": [
    "import re\n",
    "\n",
    "def find_long_words(input_string):\n",
    "    pattern = re.compile(r'\\b\\w{4,}\\b')\n",
    "    long_words = pattern.findall(input_string)\n",
    "    return long_words\n",
    "input_string = \"This is a sample string with some long words python\"\n",
    "result = find_long_words(input_string)\n",
    "print (result)"
   ]
  },
  {
   "cell_type": "code",
   "execution_count": 68,
   "id": "fd61ceb0",
   "metadata": {},
   "outputs": [],
   "source": [
    "import re\n",
    "\n",
    "def find_long_words(input_string):\n",
    "    pattern = re.compile(r'\\b\\w{3,5}\\b')\n",
    "    long_words = pattern.findall(input_string)\n",
    "    return long_words\n",
    "input_string = \"This is a sample string with some long words like cow, some, crown\"\n",
    "result = find_long_words(input_string)"
   ]
  },
  {
   "cell_type": "code",
   "execution_count": 69,
   "id": "8dd721bb",
   "metadata": {},
   "outputs": [
    {
     "name": "stdout",
     "output_type": "stream",
     "text": [
      "['This', 'with', 'some', 'long', 'words', 'like', 'cow', 'some', 'crown']\n"
     ]
    }
   ],
   "source": [
    "print( result)"
   ]
  },
  {
   "cell_type": "code",
   "execution_count": 72,
   "id": "fe6220d2",
   "metadata": {},
   "outputs": [],
   "source": [
    "import re\n",
    "\n",
    "def remove_parentheses(strings):\n",
    "    pattern = re.compile(r'\\([^)]*\\)')\n",
    "    cleaned_strings = [pattern.sub(\"\", s) for s in strings]\n",
    "    return cleaned_strings\n",
    "strings = [\"example (.com)\", \"hr@fliprobo (.com)\", \"github (.com)\", \"Hello (Data Science World)\", \"Data (Scientist)\"]\n",
    "result = remove_parentheses(strings)"
   ]
  },
  {
   "cell_type": "code",
   "execution_count": 73,
   "id": "71fa7a90",
   "metadata": {},
   "outputs": [
    {
     "name": "stdout",
     "output_type": "stream",
     "text": [
      "['example ', 'hr@fliprobo ', 'github ', 'Hello ', 'Data ']\n"
     ]
    }
   ],
   "source": [
    "print(result)"
   ]
  },
  {
   "cell_type": "code",
   "execution_count": 65,
   "id": "d2482166",
   "metadata": {},
   "outputs": [
    {
     "name": "stdout",
     "output_type": "stream",
     "text": [
      "example \n",
      "hr@fliprobo \n",
      "github \n",
      "Hello \n",
      "Data \n"
     ]
    }
   ],
   "source": [
    "import re\n",
    "\n",
    "def remove_parenthesis(strings):\n",
    "    pattern = re.compile(r'\\([^)]*\\)')\n",
    "    cleaned_strings = []\n",
    "    for string in strings:\n",
    "        cleaned_string = pattern.sub('', string)\n",
    "        cleaned_strings.append(cleaned_string)\n",
    "    \n",
    "    return cleaned_strings\n",
    "sample_text = [\"example (.com)\", \"hr@fliprobo (.com)\", \"github (.com)\", \"Hello (Data Science World)\", \"Data (Scientist)\"]\n",
    "cleaned_text = remove_parenthesis(sample_text)\n",
    "for text in cleaned_text:\n",
    "  print(text)  "
   ]
  },
  {
   "cell_type": "code",
   "execution_count": 77,
   "id": "01fb486d",
   "metadata": {},
   "outputs": [
    {
     "name": "stdout",
     "output_type": "stream",
     "text": [
      "['Importance', 'Of', 'Regular', 'Expressions', 'In', 'Python']\n"
     ]
    }
   ],
   "source": [
    "import re\n",
    "sample_text = \"ImportanceOfRegularExpressionsInPython\"\n",
    "uppercase_words = re.findall(r'[A-Z][a-z]*', sample_text)\n",
    "print(uppercase_words)"
   ]
  },
  {
   "cell_type": "code",
   "execution_count": 10,
   "id": "eedaaf06",
   "metadata": {},
   "outputs": [
    {
     "name": "stdout",
     "output_type": "stream",
     "text": [
      "RegularExpression1 IsAn2 ImportantTopic3 InPython\n"
     ]
    }
   ],
   "source": [
    "import re\n",
    "\n",
    "def insert_spaces(text):\n",
    "    modified_text = re.sub(r'(?<=[A-Z0-9])(?=[A-Z][a-z])|(?<=[0-9])(?=[A-Za-z])', ' ', text)\n",
    "    return modified_text\n",
    "sample_text = \"RegularExpression1IsAn2ImportantTopic3InPython\"\n",
    "modified_text = insert_spaces(sample_text)\n",
    "print(modified_text)"
   ]
  },
  {
   "cell_type": "code",
   "execution_count": 53,
   "id": "69d1999d",
   "metadata": {},
   "outputs": [
    {
     "name": "stdout",
     "output_type": "stream",
     "text": [
      "RegularExpression1 IsAn2 ImportantTopic3 InPython\n"
     ]
    }
   ],
   "source": [
    "import re\n",
    "\n",
    "def insert_spaces_between_numbers(text):\n",
    "    modified_text = re.sub(r'(?<=\\d)(?=[A-Za-z])', r' ', text)\n",
    "    return modified_text\n",
    "sample_text = \"RegularExpression1IsAn2ImportantTopic3InPython\"\n",
    "modified_text = insert_spaces_between_numbers(sample_text)\n",
    "print(modified_text)"
   ]
  },
  {
   "cell_type": "code",
   "execution_count": null,
   "id": "08948d99",
   "metadata": {},
   "outputs": [],
   "source": [
    "import pandas as pd\n",
    "\n",
    "url = 'https://raw.githubusercontent.com/dsrscientist/DSData/master/happiness_score_dataset.csv'\n",
    "df = pd.read_csv(url)\n",
    "df['first_five_letters'] = df['Name'].str[:6]"
   ]
  },
  {
   "cell_type": "code",
   "execution_count": 54,
   "id": "d1dbc46c",
   "metadata": {},
   "outputs": [
    {
     "name": "stdout",
     "output_type": "stream",
     "text": [
      "         Country                           Region  Happiness Rank  \\\n",
      "0    Switzerland                   Western Europe               1   \n",
      "1        Iceland                   Western Europe               2   \n",
      "2        Denmark                   Western Europe               3   \n",
      "3         Norway                   Western Europe               4   \n",
      "4         Canada                    North America               5   \n",
      "..           ...                              ...             ...   \n",
      "153       Rwanda               Sub-Saharan Africa             154   \n",
      "154        Benin               Sub-Saharan Africa             155   \n",
      "155        Syria  Middle East and Northern Africa             156   \n",
      "156      Burundi               Sub-Saharan Africa             157   \n",
      "157         Togo               Sub-Saharan Africa             158   \n",
      "\n",
      "     Happiness Score  Standard Error  Economy (GDP per Capita)   Family  \\\n",
      "0              7.587         0.03411                   1.39651  1.34951   \n",
      "1              7.561         0.04884                   1.30232  1.40223   \n",
      "2              7.527         0.03328                   1.32548  1.36058   \n",
      "3              7.522         0.03880                   1.45900  1.33095   \n",
      "4              7.427         0.03553                   1.32629  1.32261   \n",
      "..               ...             ...                       ...      ...   \n",
      "153            3.465         0.03464                   0.22208  0.77370   \n",
      "154            3.340         0.03656                   0.28665  0.35386   \n",
      "155            3.006         0.05015                   0.66320  0.47489   \n",
      "156            2.905         0.08658                   0.01530  0.41587   \n",
      "157            2.839         0.06727                   0.20868  0.13995   \n",
      "\n",
      "     Health (Life Expectancy)  Freedom  Trust (Government Corruption)  \\\n",
      "0                     0.94143  0.66557                        0.41978   \n",
      "1                     0.94784  0.62877                        0.14145   \n",
      "2                     0.87464  0.64938                        0.48357   \n",
      "3                     0.88521  0.66973                        0.36503   \n",
      "4                     0.90563  0.63297                        0.32957   \n",
      "..                        ...      ...                            ...   \n",
      "153                   0.42864  0.59201                        0.55191   \n",
      "154                   0.31910  0.48450                        0.08010   \n",
      "155                   0.72193  0.15684                        0.18906   \n",
      "156                   0.22396  0.11850                        0.10062   \n",
      "157                   0.28443  0.36453                        0.10731   \n",
      "\n",
      "     Generosity  Dystopia Residual  \n",
      "0       0.29678            2.51738  \n",
      "1       0.43630            2.70201  \n",
      "2       0.34139            2.49204  \n",
      "3       0.34699            2.46531  \n",
      "4       0.45811            2.45176  \n",
      "..          ...                ...  \n",
      "153     0.22628            0.67042  \n",
      "154     0.18260            1.63328  \n",
      "155     0.47179            0.32858  \n",
      "156     0.19727            1.83302  \n",
      "157     0.16681            1.56726  \n",
      "\n",
      "[158 rows x 12 columns]\n"
     ]
    }
   ],
   "source": [
    "print(df)"
   ]
  },
  {
   "cell_type": "code",
   "execution_count": 3,
   "id": "4d4f9b56",
   "metadata": {},
   "outputs": [
    {
     "name": "stdout",
     "output_type": "stream",
     "text": [
      "Hello_World123: True\n",
      "GoodMorning: True\n",
      "123_abc: True\n",
      "123#abc: False\n",
      "Hello World: False\n"
     ]
    }
   ],
   "source": [
    "import re\n",
    "\n",
    "def match_string(text):\n",
    "    pattern = re.compile(r'^[a-zA-Z0-9_]+$')\n",
    "    if pattern.match(text):\n",
    "        return True\n",
    "    else:\n",
    "        return False\n",
    "\n",
    "sample_strings = [\"Hello_World123\", \"GoodMorning\", \"123_abc\", \"123#abc\", \"Hello World\"]\n",
    "\n",
    "for string in sample_strings:\n",
    "    if match_string(string):\n",
    "        print(f\"{string}: True\")\n",
    "    else:\n",
    "        print(f\"{string}: False\")"
   ]
  },
  {
   "cell_type": "code",
   "execution_count": 2,
   "id": "96e2fd20",
   "metadata": {},
   "outputs": [
    {
     "name": "stdout",
     "output_type": "stream",
     "text": [
      "123abc 123\n"
     ]
    }
   ],
   "source": [
    "def starts_with_number(string, number):\n",
    "    return string.startswith(str(number))\n",
    "test_string = \"123abc\"\n",
    "specific_number = 123\n",
    "\n",
    "if starts_with_number(test_string, specific_number):\n",
    "       print(test_string, specific_number)"
   ]
  },
  {
   "cell_type": "code",
   "execution_count": 66,
   "id": "63e82eaa",
   "metadata": {},
   "outputs": [
    {
     "name": "stdout",
     "output_type": "stream",
     "text": [
      "IP address: 192.168.001.001\n",
      "Cleaned IP address: 192.168.1.1\n"
     ]
    }
   ],
   "source": [
    "def remove_leading_zeros(ip_address):\n",
    "    octets = ip_address.split('.')\n",
    "    cleaned_octets = [str(int(octet)) for octet in octets]\n",
    "    cleaned_ip_address = '.'.join(cleaned_octets)\n",
    "    return cleaned_ip_address\n",
    "ip_address = \"192.168.001.001\"\n",
    "cleaned_ip_address = remove_leading_zeros(ip_address)\n",
    "print(\"IP address:\", ip_address)\n",
    "print(\"Cleaned IP address:\", cleaned_ip_address)"
   ]
  },
  {
   "cell_type": "code",
   "execution_count": 7,
   "id": "e8e8e66c",
   "metadata": {},
   "outputs": [
    {
     "name": "stdout",
     "output_type": "stream",
     "text": [
      "['quick', 'brown', 'lazy']\n"
     ]
    }
   ],
   "source": [
    "import re\n",
    "\n",
    "def search_literals_with_regex(text, literals):\n",
    "    pattern = re.compile('|'.join(re.escape(literal) for literal in literals))\n",
    "    matches = pattern.findall(text)\n",
    "    return matches\n",
    "sample_text = 'The quick brown fox jumps over the lazy dog.'\n",
    "literals_to_search = ['quick', 'brown', 'lazy']\n",
    "found_literals = search_literals_with_regex(sample_text, literals_to_search)\n",
    "print(found_literals)"
   ]
  },
  {
   "cell_type": "code",
   "execution_count": 9,
   "id": "159b7c63",
   "metadata": {},
   "outputs": [
    {
     "name": "stdout",
     "output_type": "stream",
     "text": [
      "['August 15th 1947']\n"
     ]
    }
   ],
   "source": [
    "import re\n",
    "sample_text = \"On August 15th 1947 that India was declared independent from British colonialism, and the reins of control were handed over to the leaders of the Country.\"\n",
    "pattern = re.compile(r'\\b(?:January|February|March|April|May|June|July|August|September|October|November|December)\\s+\\d{1,2}(?:st|nd|rd|th)?\\s+\\d{4}\\b')\n",
    "matches = pattern.findall(sample_text)\n",
    "print(matches)"
   ]
  },
  {
   "cell_type": "code",
   "execution_count": 58,
   "id": "bbd8e0c9",
   "metadata": {},
   "outputs": [
    {
     "name": "stdout",
     "output_type": "stream",
     "text": [
      "The pattern 'fox' was found at index 16.\n"
     ]
    }
   ],
   "source": [
    "def search_literal_with_location(text, pattern):\n",
    "    location = text.find(pattern)\n",
    "    return location\n",
    "sample_text = 'The quick brown fox jumps over the lazy dog.'\n",
    "pattern_to_search = 'fox'\n",
    "found_location = search_literal_with_location(sample_text, pattern_to_search)\n",
    "if found_location != -1:\n",
    "    print(f\"The pattern '{pattern_to_search}' was found at index {found_location}.\")\n",
    "else:\n",
    "    print(f\"The pattern '{pattern_to_search}' was not found in the text.\")"
   ]
  },
  {
   "cell_type": "code",
   "execution_count": 47,
   "id": "ecc43e71",
   "metadata": {},
   "outputs": [
    {
     "name": "stdout",
     "output_type": "stream",
     "text": [
      "exercises\n"
     ]
    }
   ],
   "source": [
    "def find_substrings(text, substring):\n",
    "    positions = []\n",
    "    start_index = 0\n",
    "    while start_index < len(text):\n",
    "        index = text.find(substring, start_index)\n",
    "        if index == -1:\n",
    "            break\n",
    "        positions.append((index, index + len(substring)))\n",
    "        start_index = index + 1\n",
    "    return positions\n",
    "sample_text = 'Python exercises, PHP exercises, C# exercises'\n",
    "substring_to_find = 'exercises'\n",
    "\n",
    "if found_substrings:\n",
    "    print(substring_to_find)"
   ]
  },
  {
   "cell_type": "code",
   "execution_count": 53,
   "id": "5ef43ba5",
   "metadata": {},
   "outputs": [
    {
     "name": "stdout",
     "output_type": "stream",
     "text": [
      "exercises\n",
      "Position: 7\n",
      "Position: 22\n",
      "Position: 36\n"
     ]
    }
   ],
   "source": [
    "def find_substrings(text, substring):\n",
    "    positions = []\n",
    "    start_index = 0\n",
    "    while start_index < len(text):\n",
    "        index = text.find(substring, start_index)\n",
    "        if index == -1:\n",
    "            break\n",
    "        positions.append(index)\n",
    "        start_index = index + 1\n",
    "    return positions\n",
    "sample_text = 'Python exercises, PHP exercises, C# exercises'\n",
    "substring_to_find = 'exercises'\n",
    "found_positions = find_substrings(sample_text, substring_to_find)\n",
    "\n",
    "if found_positions:\n",
    "    print(substring_to_find)\n",
    "    for position in found_positions:\n",
    "        print(f\"Position: {position}\")"
   ]
  },
  {
   "cell_type": "code",
   "execution_count": 55,
   "id": "fe80213f",
   "metadata": {},
   "outputs": [
    {
     "name": "stdout",
     "output_type": "stream",
     "text": [
      "1998-05-07\n",
      "07-05-1998\n"
     ]
    }
   ],
   "source": [
    "from datetime import datetime\n",
    "\n",
    "def convert_date_format(date_str):\n",
    "    date_object = datetime.strptime(date_str, '%Y-%m-%d')\n",
    "    formatted_date = date_object.strftime('%d-%m-%Y')\n",
    "    return formatted_date\n",
    "date_str = '1998-05-07'\n",
    "formatted_date = convert_date_format(date_str)\n",
    "print( date_str)\n",
    "print(formatted_date)"
   ]
  },
  {
   "cell_type": "code",
   "execution_count": 56,
   "id": "ae3daef8",
   "metadata": {},
   "outputs": [
    {
     "name": "stdout",
     "output_type": "stream",
     "text": [
      "['01.12', '145.8', '3.01', '27.25', '0.25']\n"
     ]
    }
   ],
   "source": [
    "import re\n",
    "\n",
    "def find_decimal_numbers(text):\n",
    "    pattern = re.compile(r'\\b\\d+\\.\\d{1,2}\\b')\n",
    "    decimal_numbers = pattern.findall(text)\n",
    "    return decimal_numbers\n",
    "sample_text = \"01.12 0132.123 2.31875 145.8 3.01 27.25 0.25\"\n",
    "found_decimal_numbers = find_decimal_numbers(sample_text)\n",
    "print(found_decimal_numbers)"
   ]
  },
  {
   "cell_type": "code",
   "execution_count": 60,
   "id": "2e5f83a6",
   "metadata": {},
   "outputs": [
    {
     "name": "stdout",
     "output_type": "stream",
     "text": [
      "Numbers found in the text along with their positions:\n",
      "Number: 1, Position: 0-1\n",
      "Number: 2, Position: 61-62\n"
     ]
    }
   ],
   "source": [
    "import re\n",
    "def find_numbers_with_positions(text):\n",
    "    pattern = re.compile(r'\\d+')\n",
    "    matches = [(int(match.group()), match.start(), match.end()) for match in pattern.finditer(text)]\n",
    "    return matches\n",
    "sample_text = \"1- She's feeling like a fish out of water in the new school. 2-To break the ice at the party, I told a funny joke that got everyone laughing.\"\n",
    "found_numbers = find_numbers_with_positions(sample_text)\n",
    "print(\"Numbers found in the text along with their positions:\")\n",
    "for number, start_pos, end_pos in found_numbers:\n",
    "    print(f\"Number: {number}, Position: {start_pos}-{end_pos}\")"
   ]
  },
  {
   "cell_type": "code",
   "execution_count": 13,
   "id": "a6e7a92d",
   "metadata": {},
   "outputs": [
    {
     "name": "stdout",
     "output_type": "stream",
     "text": [
      "950\n"
     ]
    }
   ],
   "source": [
    "import re\n",
    "\n",
    "def extract_maximum_number(text):\n",
    "    numbers = re.findall(r'\\d+', text)\n",
    "    max_number = max(map(int, numbers))\n",
    "    return max_number\n",
    "sample_text = 'My marks in each semester are: 947, 896, 926, 524, 734, 950, 642'\n",
    "max_number = extract_maximum_number(sample_text)\n",
    "print(max_number)"
   ]
  },
  {
   "cell_type": "code",
   "execution_count": 62,
   "id": "b9813f73",
   "metadata": {},
   "outputs": [
    {
     "name": "stdout",
     "output_type": "stream",
     "text": [
      "Regular expression is an important topic in python\n"
     ]
    }
   ],
   "source": [
    "import re\n",
    "\n",
    "def insert_spaces(text):\n",
    "    modified_text = re.sub(r'(?<=[a-z])([A-Z])', r' \\1', text)\n",
    "    modified_text = modified_text.capitalize()\n",
    "    return modified_text\n",
    "sample_text = \"RegularExpressionIsAnImportantTopicInPython\"\n",
    "modified_text = insert_spaces(sample_text)\n",
    "print(modified_text)"
   ]
  },
  {
   "cell_type": "code",
   "execution_count": 87,
   "id": "d00673af",
   "metadata": {},
   "outputs": [
    {
     "name": "stdout",
     "output_type": "stream",
     "text": [
      "['The', 'Quick', 'Fox', 'Jumps', 'Dog']\n"
     ]
    }
   ],
   "source": [
    "import re\n",
    "sample_text = \"The Quick brown Fox Jumps over the lazy Dog.\"\n",
    "pattern = re.compile(r'[A-Z][a-z]+')\n",
    "matches = pattern.findall(sample_text)\n",
    "print(matches)"
   ]
  },
  {
   "cell_type": "code",
   "execution_count": 16,
   "id": "9516a342",
   "metadata": {},
   "outputs": [
    {
     "name": "stdout",
     "output_type": "stream",
     "text": [
      "Hello hello world\n"
     ]
    }
   ],
   "source": [
    "import re\n",
    "\n",
    "def remove_continuous_duplicates(sentence):\n",
    "    cleaned_sentence = re.sub(r'\\b(\\w+)(\\s+\\1)+\\b', r'\\1', sentence)\n",
    "    return cleaned_sentence\n",
    "sample_text = \"Hello hello world world\"\n",
    "cleaned_text = remove_continuous_duplicates(sample_text)\n",
    "print(cleaned_text)"
   ]
  },
  {
   "cell_type": "code",
   "execution_count": 17,
   "id": "5d1bf8c9",
   "metadata": {},
   "outputs": [
    {
     "name": "stdout",
     "output_type": "stream",
     "text": [
      "'hello123' ends with an alphanumeric character.\n",
      "'world_' ends with an alphanumeric character.\n",
      "'Python3' ends with an alphanumeric character.\n",
      "'test$' does not end with an alphanumeric character.\n",
      "'regex_123' ends with an alphanumeric character.\n"
     ]
    }
   ],
   "source": [
    "import re\n",
    "\n",
    "def accept_ending_alphanumeric(string):\n",
    "    pattern = re.compile(r'^.*\\w$')\n",
    "    if pattern.match(string):\n",
    "        return True\n",
    "    else:\n",
    "        return False\n",
    "sample_strings = [\"hello123\", \"world_\", \"Python3\", \"test$\", \"regex_123\"]\n",
    "for string in sample_strings:\n",
    "    if accept_ending_alphanumeric(string):\n",
    "        print(f\"'{string}' ends with an alphanumeric character.\")\n",
    "    else:\n",
    "        print(f\"'{string}' does not end with an alphanumeric character.\")"
   ]
  },
  {
   "cell_type": "code",
   "execution_count": 18,
   "id": "1c705338",
   "metadata": {},
   "outputs": [
    {
     "name": "stdout",
     "output_type": "stream",
     "text": [
      "['#Doltiwal', '#xyzabc', '#Demonetization']\n"
     ]
    }
   ],
   "source": [
    "import re\n",
    "def extract_hashtags(text):\n",
    "    pattern = re.compile(r'#\\w+')\n",
    "    hashtags = pattern.findall(text)\n",
    "    return hashtags\n",
    "sample_text = \"\"\"RT @kapil_kausik: #Doltiwal I mean #xyzabc is \"hurt\" by #Demonetization as the same has rendered USELESS <ed><U+00A0><U+00BD><ed><U+00B1><U+0089> \"acquired funds\" No wo\"\"\"\n",
    "hashtags = extract_hashtags(sample_text)\n",
    "print(hashtags)"
   ]
  },
  {
   "cell_type": "code",
   "execution_count": 19,
   "id": "6a5ae458",
   "metadata": {},
   "outputs": [
    {
     "name": "stdout",
     "output_type": "stream",
     "text": [
      "@Jags123456 Bharat band on 28??<ed><ed>Those who  are protesting #demonetization  are all different party leaders\n"
     ]
    }
   ],
   "source": [
    "import re\n",
    "def remove_special_symbols(text):\n",
    "    pattern = re.compile(r'<U\\+\\w{4}>')\n",
    "    cleaned_text = re.sub(pattern, '', text)\n",
    "    return cleaned_text\n",
    "sample_text = \"@Jags123456 Bharat band on 28??<ed><U+00A0><U+00BD><ed><U+00B8><U+0082>Those who  are protesting #demonetization  are all different party leaders\"\n",
    "cleaned_text = remove_special_symbols(sample_text)\n",
    "print(cleaned_text)"
   ]
  },
  {
   "cell_type": "code",
   "execution_count": 43,
   "id": "792bd533",
   "metadata": {},
   "outputs": [
    {
     "name": "stdout",
     "output_type": "stream",
     "text": [
      "['12-09-1992', '15-12-1999']\n"
     ]
    }
   ],
   "source": [
    "import re\n",
    "def extract_dates_from_text(text):\n",
    "    pattern = r'\\b\\d{2}-\\d{2}-\\d{4}\\b'\n",
    "    dates = re.findall(pattern, text)\n",
    "    return dates\n",
    "sample_text = \"Ron was born on 12-09-1992 and he was admitted to school 15-12-1999.\"\n",
    "dates = extract_dates_from_text(sample_text)\n",
    "print(dates)                                 "
   ]
  },
  {
   "cell_type": "code",
   "execution_count": 61,
   "id": "37d4da9c",
   "metadata": {},
   "outputs": [
    {
     "name": "stdout",
     "output_type": "stream",
     "text": [
      " following example creates  ArrayList  a capacity   elements. 4 elements   added   ArrayList   ArrayList  trimmed accordingly.\n"
     ]
    }
   ],
   "source": [
    "import re\n",
    "def remove_words_of_length_between_2_and_4(text):\n",
    "    pattern = re.compile(r'\\b\\w{2,4}\\b')\n",
    "    modified_text = pattern.sub('', text)\n",
    "    return modified_text\n",
    "sample_text = \"The following example creates an ArrayList with a capacity of 50 elements. 4 elements are then added to the ArrayList and the ArrayList is trimmed accordingly.\"\n",
    "modified_text = remove_words_of_length_between_2_and_4(sample_text)\n",
    "print(modified_text)"
   ]
  },
  {
   "cell_type": "code",
   "execution_count": null,
   "id": "da478f7e",
   "metadata": {},
   "outputs": [],
   "source": []
  }
 ],
 "metadata": {
  "kernelspec": {
   "display_name": "Python 3 (ipykernel)",
   "language": "python",
   "name": "python3"
  },
  "language_info": {
   "codemirror_mode": {
    "name": "ipython",
    "version": 3
   },
   "file_extension": ".py",
   "mimetype": "text/x-python",
   "name": "python",
   "nbconvert_exporter": "python",
   "pygments_lexer": "ipython3",
   "version": "3.11.5"
  }
 },
 "nbformat": 4,
 "nbformat_minor": 5
}
